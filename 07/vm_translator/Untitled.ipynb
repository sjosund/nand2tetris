{
 "cells": [
  {
   "cell_type": "code",
   "execution_count": 1,
   "metadata": {},
   "outputs": [],
   "source": [
    "%load_ext autoreload\n",
    "%autoreload 2"
   ]
  },
  {
   "cell_type": "code",
   "execution_count": 2,
   "metadata": {},
   "outputs": [],
   "source": [
    "from pathlib import Path\n",
    "from translator import translate"
   ]
  },
  {
   "cell_type": "code",
   "execution_count": 27,
   "metadata": {},
   "outputs": [],
   "source": [
    "# path = '/Users/user/Programming/nand2tetris/projects/07/StackArithmetic/SimpleAdd/SimpleAdd.vm'\n",
    "base_path = Path('/Users/user/Programming/nand2tetris/projects/07/MemoryAccess/')\n",
    "task = 'StaticTest'\n",
    "path = base_path / task / f'{task}.vm'\n",
    "output_path = base_path / task / f'{task}.asm'\n",
    "output_path_bin = base_path / task / f'{task}.hack'\n",
    "translate(path=path, output_path=output_path, force_overwrite=True)"
   ]
  },
  {
   "cell_type": "code",
   "execution_count": 28,
   "metadata": {},
   "outputs": [
    {
     "name": "stdout",
     "output_type": "stream",
     "text": [
      "      84\r\n"
     ]
    }
   ],
   "source": [
    "!cat {output_path} | wc -l"
   ]
  },
  {
   "cell_type": "code",
   "execution_count": 29,
   "metadata": {},
   "outputs": [],
   "source": [
    "!python /Users/user/Programming/nand2tetris/projects/06/assembler/assembler.py assemble --path {output_path} --output {output_path_bin} --force"
   ]
  },
  {
   "cell_type": "code",
   "execution_count": 30,
   "metadata": {},
   "outputs": [
    {
     "name": "stdout",
     "output_type": "stream",
     "text": [
      "      73\r\n"
     ]
    }
   ],
   "source": [
    "!cat {output_path_bin} | wc -l"
   ]
  },
  {
   "cell_type": "markdown",
   "metadata": {},
   "source": [
    "# Functions and program flow"
   ]
  },
  {
   "cell_type": "code",
   "execution_count": 135,
   "metadata": {},
   "outputs": [
    {
     "name": "stdout",
     "output_type": "stream",
     "text": [
      "Sys.init\n",
      "Class1.set\n",
      "Class2.set\n",
      "Class1.get\n",
      "Class2.get\n"
     ]
    }
   ],
   "source": [
    "# path = '/Users/user/Programming/nand2tetris/projects/07/StackArithmetic/SimpleAdd/SimpleAdd.vm'\n",
    "base_path = Path('/Users/user/Programming/nand2tetris/projects/08/FunctionCalls/')\n",
    "task = 'StaticsTest'\n",
    "path = base_path / task\n",
    "output_path = base_path / task / f'{task}.asm'\n",
    "output_path_bin = base_path / task / f'{task}.hack'\n",
    "translate(path=path, output_path=output_path, force_overwrite=True)"
   ]
  },
  {
   "cell_type": "code",
   "execution_count": 136,
   "metadata": {},
   "outputs": [],
   "source": [
    "!python /Users/user/Programming/nand2tetris/projects/06/assembler/assembler.py assemble --path {output_path} --output {output_path_bin} --force"
   ]
  }
 ],
 "metadata": {
  "kernelspec": {
   "display_name": "Python 3",
   "language": "python",
   "name": "python3"
  },
  "language_info": {
   "codemirror_mode": {
    "name": "ipython",
    "version": 3
   },
   "file_extension": ".py",
   "mimetype": "text/x-python",
   "name": "python",
   "nbconvert_exporter": "python",
   "pygments_lexer": "ipython3",
   "version": "3.6.5"
  },
  "toc": {
   "base_numbering": 1,
   "nav_menu": {},
   "number_sections": true,
   "sideBar": true,
   "skip_h1_title": false,
   "title_cell": "Table of Contents",
   "title_sidebar": "Contents",
   "toc_cell": false,
   "toc_position": {},
   "toc_section_display": true,
   "toc_window_display": false
  },
  "varInspector": {
   "cols": {
    "lenName": 16,
    "lenType": 16,
    "lenVar": 40
   },
   "kernels_config": {
    "python": {
     "delete_cmd_postfix": "",
     "delete_cmd_prefix": "del ",
     "library": "var_list.py",
     "varRefreshCmd": "print(var_dic_list())"
    },
    "r": {
     "delete_cmd_postfix": ") ",
     "delete_cmd_prefix": "rm(",
     "library": "var_list.r",
     "varRefreshCmd": "cat(var_dic_list()) "
    }
   },
   "types_to_exclude": [
    "module",
    "function",
    "builtin_function_or_method",
    "instance",
    "_Feature"
   ],
   "window_display": false
  }
 },
 "nbformat": 4,
 "nbformat_minor": 2
}
